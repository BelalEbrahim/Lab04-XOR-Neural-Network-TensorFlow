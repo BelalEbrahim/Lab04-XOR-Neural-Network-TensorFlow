{
  "nbformat": 4,
  "nbformat_minor": 0,
  "metadata": {
    "colab": {
      "provenance": [],
      "include_colab_link": true
    },
    "kernelspec": {
      "name": "python3",
      "display_name": "Python 3"
    },
    "language_info": {
      "name": "python"
    }
  },
  "cells": [
    {
      "cell_type": "markdown",
      "metadata": {
        "id": "view-in-github",
        "colab_type": "text"
      },
      "source": [
        "<a href=\"https://colab.research.google.com/github/BelalEbrahim/Lab04-XOR-Neural-Network-TensorFlow/blob/main/Lab04_XOR_Neural_Network_TensorFlow.ipynb\" target=\"_parent\"><img src=\"https://colab.research.google.com/assets/colab-badge.svg\" alt=\"Open In Colab\"/></a>"
      ]
    },
    {
      "cell_type": "code",
      "execution_count": null,
      "metadata": {
        "colab": {
          "base_uri": "https://localhost:8080/",
          "height": 627
        },
        "id": "XRU10nWdeWvE",
        "outputId": "6134090e-f04e-4c45-c49b-9d76708ccfe2"
      },
      "outputs": [
        {
          "output_type": "stream",
          "name": "stdout",
          "text": [
            "Epoch    0 | Loss: 0.7349 | Accuracy: 0.5000\n",
            "Epoch 1000 | Loss: 0.3468 | Accuracy: 0.5000\n",
            "Epoch 2000 | Loss: 0.3466 | Accuracy: 0.5000\n",
            "Epoch 3000 | Loss: 0.3466 | Accuracy: 0.5000\n",
            "Epoch 4000 | Loss: 0.3466 | Accuracy: 0.5000\n",
            "Epoch 5000 | Loss: 0.3466 | Accuracy: 0.5000\n",
            "Epoch 6000 | Loss: 0.3466 | Accuracy: 0.5000\n",
            "Epoch 7000 | Loss: 0.3466 | Accuracy: 0.7500\n",
            "Epoch 8000 | Loss: 0.3466 | Accuracy: 0.7500\n",
            "Epoch 9000 | Loss: 0.3466 | Accuracy: 0.7500\n",
            "\n",
            "Final Predictions:\n",
            "[0. 0.] → 0.0000 (≈0)\n",
            "[0. 1.] → 0.5000 (≈1)\n",
            "[1. 0.] → 1.0000 (≈1)\n",
            "[1. 1.] → 0.5000 (≈1)\n"
          ]
        },
        {
          "output_type": "display_data",
          "data": {
            "text/plain": [
              "<Figure size 1000x600 with 1 Axes>"
            ],
            "image/png": "[encoded data removed]"
          },
          "metadata": {}
        },
        {
          "output_type": "stream",
          "name": "stdout",
          "text": [
            "\n",
            "Learned Parameters:\n",
            "Hidden Weights:\n",
            " [[  8.932493  -9.95804 ]\n",
            " [-20.26569  -20.865082]]\n",
            "Hidden Bias:    [-5.5515327  3.7646155]\n",
            "Output Weights: [ 14.55246  -14.212318]\n",
            "Output Bias:    [9.47335e-05]\n"
          ]
        }
      ],
      "source": [
        "\n",
        "import numpy as np\n",
        "import tensorflow as tf\n",
        "import matplotlib.pyplot as plt\n",
        "\n",
        "# Set random seed for reproducibility\n",
        "tf.random.set_seed(42)\n",
        "np.random.seed(42)\n",
        "\n",
        "# Model Implementation\n",
        "class XORModel(tf.Module):\n",
        "    def __init__(self):\n",
        "        super().__init__()\n",
        "        self.built = False\n",
        "        self.loss_history = []\n",
        "\n",
        "    def __call__(self, x, train=True):\n",
        "        if not self.built:\n",
        "            # Initialize weights and biases using Xavier Initialization\n",
        "            initializer = tf.keras.initializers.GlorotNormal()\n",
        "\n",
        "            self.hidden_w = tf.Variable(\n",
        "                initializer(shape=(2, 2)),\n",
        "                name=\"hidden_weights\"\n",
        "            )\n",
        "            self.hidden_b = tf.Variable(\n",
        "                tf.zeros([2]),\n",
        "                name=\"hidden_bias\"\n",
        "            )\n",
        "            self.output_w = tf.Variable(\n",
        "                initializer(shape=(2, 1)),\n",
        "                name=\"output_weights\"\n",
        "            )\n",
        "            self.output_b = tf.Variable(\n",
        "                tf.zeros([1]),\n",
        "                name=\"output_bias\"\n",
        "            )\n",
        "            self.built = True\n",
        "\n",
        "        # Forward pass\n",
        "        hidden = tf.sigmoid(tf.matmul(x, self.hidden_w) + self.hidden_b)\n",
        "        output = tf.sigmoid(tf.matmul(hidden, self.output_w) + self.output_b)\n",
        "        return output\n",
        "\n",
        "# Loss Function (Binary Cross-Entropy)\n",
        "def compute_loss(y_pred, y_true):\n",
        "    return -tf.reduce_mean(y_true * tf.math.log(y_pred + 1e-7) + (1 - y_true) * tf.math.log(1 - y_pred + 1e-7))\n",
        "\n",
        "# Training\n",
        "def train_model(model, x_train, y_train, learning_rate=0.1, epochs=10000):\n",
        "    optimizer = tf.optimizers.Adam(learning_rate)\n",
        "\n",
        "    for epoch in range(epochs):\n",
        "        with tf.GradientTape() as tape:\n",
        "            y_pred = model(x_train)\n",
        "            loss = compute_loss(y_pred, y_train)\n",
        "\n",
        "        gradients = tape.gradient(loss, model.trainable_variables)\n",
        "        optimizer.apply_gradients(zip(gradients, model.trainable_variables))\n",
        "\n",
        "        model.loss_history.append(loss.numpy())\n",
        "\n",
        "        if epoch % 1000 == 0:\n",
        "            acc = compute_accuracy(model, x_train, y_train)\n",
        "            print(f\"Epoch {epoch:4d} | Loss: {loss.numpy():.4f} | Accuracy: {acc:.4f}\")\n",
        "\n",
        "# Compute Accuracy\n",
        "def compute_accuracy(model, x, y_true):\n",
        "    y_pred = model(x, train=False)\n",
        "    y_pred_rounded = tf.round(y_pred)\n",
        "    correct = tf.equal(tf.squeeze(y_pred_rounded), tf.squeeze(y_true))  # إصلاح الشكل\n",
        "    return tf.reduce_mean(tf.cast(correct, tf.float32)).numpy()\n",
        "\n",
        "# Visualization\n",
        "def plot_loss(loss_history):\n",
        "    plt.figure(figsize=(10, 6))\n",
        "    plt.plot(loss_history)\n",
        "    plt.title(\"Training Loss Progress\")\n",
        "    plt.xlabel(\"Epoch\")\n",
        "    plt.ylabel(\"Loss\")\n",
        "    plt.grid(True)\n",
        "    plt.show()\n",
        "\n",
        "# XOR dataset\n",
        "xor_table = np.array([\n",
        "    [0, 0, 0],\n",
        "    [0, 1, 1],\n",
        "    [1, 0, 1],\n",
        "    [1, 1, 0]\n",
        "], dtype=np.float32)\n",
        "\n",
        "x_train = xor_table[:, :2]\n",
        "y_train = xor_table[:, 2:]\n",
        "\n",
        "# Initialize and train model\n",
        "model = XORModel()\n",
        "train_model(model, x_train, y_train)\n",
        "\n",
        "# Display results\n",
        "print(\"\\nFinal Predictions:\")\n",
        "y_pred = model(x_train).numpy()\n",
        "for inputs, prediction in zip(x_train, y_pred):\n",
        "    print(f\"{inputs} → {prediction[0]:.4f} (≈{round(prediction[0])})\")\n",
        "\n",
        "# Plot training progress\n",
        "plot_loss(model.loss_history)\n",
        "\n",
        "# Learned parameters\n",
        "print(\"\\nLearned Parameters:\")\n",
        "print(\"Hidden Weights:\\n\", model.hidden_w.numpy())\n",
        "print(\"Hidden Bias:   \", model.hidden_b.numpy())\n",
        "print(\"Output Weights:\", model.output_w.numpy().flatten())\n",
        "print(\"Output Bias:   \", model.output_b.numpy())"
      ]
    }
  ]
}